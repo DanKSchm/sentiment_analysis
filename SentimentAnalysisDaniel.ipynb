{
 "cells": [
  {
   "cell_type": "code",
   "execution_count": 1,
   "metadata": {},
   "outputs": [],
   "source": [
    "import tweepy\n",
    "from textblob import TextBlob\n",
    "from wordcloud import WordCloud\n",
    "import pandas as pd\n",
    "import numpy as np\n",
    "import re\n",
    "import matplotlib.pyplot as plt\n",
    "plt.style.use(\"fivethirtyeight\")"
   ]
  },
  {
   "cell_type": "code",
   "execution_count": 2,
   "metadata": {},
   "outputs": [],
   "source": [
    "CONSUMER_KEY=\"*addyourkeyhere\"\n",
    "CONSUMER_SECRET= \"addyourkeyhere\"\n",
    "ACCESS_TOKEN_KEY = \"addyourkeyhere\"\n",
    "ACCESS_TOKEN_SECRET= \"addyourkeyhere\""
   ]
  },
  {
   "cell_type": "code",
   "execution_count": 3,
   "metadata": {},
   "outputs": [],
   "source": [
    "# Create the authentication object\n",
    "authenticate = tweepy.OAuthHandler(CONSUMER_KEY, CONSUMER_SECRET)\n",
    "\n",
    "# Set the access token und access token secret\n",
    "authenticate.set_access_token(ACCESS_TOKEN_KEY, ACCESS_TOKEN_SECRET)\n",
    "\n",
    "# Create the API object while passing in the auth information\n",
    "api = tweepy.API(authenticate, wait_on_rate_limit=True)"
   ]
  },
  {
   "cell_type": "code",
   "execution_count": null,
   "metadata": {},
   "outputs": [],
   "source": [
    "# Extract 100 tweets from the twitter user\n",
    "twitter_name = input(\"From which twitter account you want to extract tweets? Pls type in the correct twitter name:  \")\n",
    "number_of_tweets= input(\"How many of the recent tweets of the twitter user do you want to extract?\")\n",
    "\n",
    "\n",
    "posts = api.user_timeline(screen_name=twitter_name, count=int(number_of_tweets), lang=\"en\", tweet_mode=\"extended\")\n",
    "\n",
    "# Print the last 5 tweets from the account\n",
    "print(\"Show the 5 recent tweets: \\n\")\n",
    "i=1\n",
    "for tweet in posts[0:5]:\n",
    "    print(str(i)+ \") \"+tweet.full_text + \"\\n\")\n",
    "    i= i+1\n",
    "    \n"
   ]
  },
  {
   "cell_type": "code",
   "execution_count": null,
   "metadata": {},
   "outputs": [],
   "source": [
    "# Create a dataframe with a column called Tweets\n",
    "df = pd.DataFrame([tweet.full_text for tweet in posts], columns=[\"Tweets\"])\n",
    "df1 = pd.DataFrame([twitter_name for tweet in posts], columns=[\"Twittered_By\"])\n",
    "df2 = pd.DataFrame([tweet.created_at for tweet in posts], columns=[\"Tweet_Date\"])\n",
    "\n",
    "# Show the first 5 rows of data\n",
    "df2.head()"
   ]
  },
  {
   "cell_type": "code",
   "execution_count": null,
   "metadata": {},
   "outputs": [],
   "source": [
    "# connect all 3 dataframes by column\n",
    "tbd = pd.concat([df, df1,df2], axis=1)\n",
    "tbd.head(5)\n",
    "\n",
    "# tbd for tweet,by,date"
   ]
  },
  {
   "cell_type": "code",
   "execution_count": null,
   "metadata": {},
   "outputs": [],
   "source": [
    "# Clean the text\n",
    "\n",
    "# Create a function to clean the tweets\n",
    "\n",
    "def cleanTxt(text):\n",
    "    text=re.sub(r'@[A-Za-z0-9]+', '', text) \n",
    "    text=re.sub(r'#', '', text)                     \n",
    "    text=re.sub(r'RT[\\s]+', '', text)\n",
    "    text= re.sub(r'https?:/\\/\\\\S+', '', text)\n",
    "    text=re.sub(r'https:.*?', '', text)\n",
    "    text=re.sub(r'^:', '', text)\n",
    "    \n",
    "    return text\n",
    "\n",
    "# Cleaning the text                        \n",
    "tbd[\"Tweets\"] = tbd[\"Tweets\"].apply(cleanTxt)\n",
    "\n",
    "# Show cleaned text\n",
    "tbd"
   ]
  },
  {
   "cell_type": "code",
   "execution_count": null,
   "metadata": {},
   "outputs": [],
   "source": [
    "# Create a function to get the subjectivity\n",
    "def getSubjectivity(text):\n",
    "    return TextBlob(text).sentiment.subjectivity\n",
    "\n",
    "# Create a function to get the polarity\n",
    "def getPolarity(text):\n",
    "    return TextBlob(text).sentiment.polarity\n",
    "\n",
    "# Create two new columns\n",
    "tbd[\"Subjectivity\"] = tbd[\"Tweets\"].apply(getSubjectivity)\n",
    "tbd[\"Polarity\"] = tbd[\"Tweets\"].apply(getPolarity)\n",
    "\n",
    "# Show the new dataframe with the new columns\n",
    "tbd"
   ]
  },
  {
   "cell_type": "code",
   "execution_count": null,
   "metadata": {},
   "outputs": [],
   "source": [
    " #Plot World Cloud\n",
    "allWords = \" \".join([twts for twts in tbd[\"Tweets\"]])\n",
    "wordCloud= WordCloud(width=500, height=300, random_state=21, max_font_size=119).generate(allWords)\n",
    "\n",
    "plt.imshow(wordCloud, interpolation=\"bilinear\")\n",
    "plt.axis(\"off\")\n",
    "plt.show()"
   ]
  },
  {
   "cell_type": "code",
   "execution_count": null,
   "metadata": {},
   "outputs": [],
   "source": [
    "# Create a function to compute the negative, neutral and positive analysis\n",
    "def getAnalysis(score):\n",
    "    if score <0:\n",
    "        return \"Negative\"\n",
    "    elif score == 0:\n",
    "        return \"Neutral\"\n",
    "    else:\n",
    "        return \"Positive\"\n",
    "    \n",
    "tbd[\"Analysis\"] = tbd[\"Polarity\"].apply(getAnalysis)\n",
    "    \n",
    "#Show the dataframe\n",
    "\n",
    "tbd"
   ]
  },
  {
   "cell_type": "code",
   "execution_count": null,
   "metadata": {},
   "outputs": [],
   "source": [
    "# Print all of the positive tweets\n",
    "j=1\n",
    "sortedDF=tbd.sort_values(by=[\"Polarity\"])\n",
    "for i in range(0, sortedDF.shape[0]):\n",
    "    if (sortedDF[\"Analysis\"][i]==\"Positive\"):\n",
    "        print(str(j) + \") \"+sortedDF[\"Tweets\"][i])\n",
    "        print()\n",
    "        j=j+1"
   ]
  },
  {
   "cell_type": "code",
   "execution_count": null,
   "metadata": {},
   "outputs": [],
   "source": [
    "# Plot the polarity and subjectivity\n",
    "plt.figure(figsize=(8,6))\n",
    "for i in range(0, tbd.shape[0]):\n",
    "    plt.scatter(tbd[\"Polarity\"][i], tbd[\"Subjectivity\"][i], color=\"Blue\")\n",
    "    \n",
    "plt.title(\"Sentiment Analysis\")\n",
    "plt.xlabel(\"Polarity\")\n",
    "plt.ylabel(\"Subjectivity\")\n",
    "plt.show()"
   ]
  },
  {
   "cell_type": "code",
   "execution_count": null,
   "metadata": {},
   "outputs": [],
   "source": [
    "# Get the percentage of positive tweets\n",
    "ptweets = tbd[tbd.Analysis==\"Positive\"]\n",
    "ptweets = ptweets[\"Tweets\"]\n",
    "\n",
    "round( (ptweets.shape[0] / tbd.shape[0])*100, 1)"
   ]
  },
  {
   "cell_type": "code",
   "execution_count": null,
   "metadata": {},
   "outputs": [],
   "source": [
    "#Get the percentage of negative twwets\n",
    "ptweets = tbd[tbd.Analysis==\"Negative\"]\n",
    "ptweets = ptweets[\"Tweets\"]\n",
    "\n",
    "round( (ptweets.shape[0] / tbd.shape[0])*100, 1)"
   ]
  },
  {
   "cell_type": "code",
   "execution_count": null,
   "metadata": {},
   "outputs": [],
   "source": [
    "# Show the value counts\n",
    "\n",
    "tbd[\"Analysis\"].value_counts()\n",
    "\n",
    "#plot and visualize the counts\n",
    "plt.title(\"Sentiment Analysis\")\n",
    "plt.xlabel(\"Sentiment\")\n",
    "plt.ylabel(\"Counts\")\n",
    "tbd[\"Analysis\"].value_counts().plot(kind=\"bar\")\n",
    "plt.show()"
   ]
  },
  {
   "cell_type": "code",
   "execution_count": null,
   "metadata": {},
   "outputs": [],
   "source": []
  }
 ],
 "metadata": {
  "kernelspec": {
   "display_name": "Python 3",
   "language": "python",
   "name": "python3"
  },
  "language_info": {
   "codemirror_mode": {
    "name": "ipython",
    "version": 3
   },
   "file_extension": ".py",
   "mimetype": "text/x-python",
   "name": "python",
   "nbconvert_exporter": "python",
   "pygments_lexer": "ipython3",
   "version": "3.7.6"
  }
 },
 "nbformat": 4,
 "nbformat_minor": 4
}
